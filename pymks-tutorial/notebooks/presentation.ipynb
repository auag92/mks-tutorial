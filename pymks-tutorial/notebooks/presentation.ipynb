{
 "cells": [
  {
   "cell_type": "markdown",
   "metadata": {
    "format": "row",
    "slideshow": {
     "slide_type": "slide"
    }
   },
   "source": [
    "<p>\n",
    "<center>\n",
    "<img src=\"./pymks_logo.svg\"\n",
    "     height=\"5\"\n",
    "     width=\"250\"\n",
    "     alt=\"PyMKS logo\"\n",
    "     class=\"inline\">\n",
    "</center>\n",
    "</p>\n",
    "\n",
    "<p>\n",
    "<center>\n",
    "<sup><strong>\n",
    "<h1>\n",
    "PyMKS Tutorial\n",
    "</h1>\n",
    "</strong></sup>\n",
    "</center>\n",
    "</p>\n",
    "\n",
    "<p>\n",
    "<center>\n",
    "<sup><strong>\n",
    "<h2>\n",
    "Daniel Wheeler\n",
    "<h2>\n",
    "</strong></sup>\n",
    "</center>\n",
    "</p>\n",
    "\n",
    "<p>\n",
    "<center>\n",
    "<pre>\n",
    "https://materialsinnovation.github.io/pymks\n",
    "</pre>\n",
    "</center>\n",
    "</p>\n"
   ]
  },
  {
   "cell_type": "markdown",
   "metadata": {
    "slideshow": {
     "slide_type": "slide"
    }
   },
   "source": [
    "\n",
    "# PyMKS Overview\n",
    "\n",
    " - PyMKS is a materials informatics toolkit (Materials Knowledge System) written in Python\n",
    "\n",
    " - PyMKS provides a machine learning technique unavailable in other machine learning libraries\n",
    "\n",
    " - The core of PyMKS is a set of convolution kernels, the rest is an API that works with Scikit-Learn \n",
    "\n",
    " - PyMKS provides documentation and testing for MKS use cases\n"
   ]
  },
  {
   "cell_type": "markdown",
   "metadata": {
    "slideshow": {
     "slide_type": "slide"
    }
   },
   "source": [
    "\n",
    "</p>\n",
    "<center>\n",
    "<img src=\"./pymks1.svg\"\n",
    "     height=\"900\"\n",
    "     width=\"900\"\n",
    "     alt=\"PyMKS logo\"\n",
    "</center>"
   ]
  },
  {
   "cell_type": "markdown",
   "metadata": {
    "slideshow": {
     "slide_type": "slide"
    }
   },
   "source": [
    "# Tutorial\n",
    "\n",
    " - live coding - follow along - lots of typing\n",
    "\n",
    " - should have software installed - running a Jupyter notebook\n",
    "  \n",
    "   - install on your laptop\n",
    "   \n",
    "   - use [Matin](https://matin.gatech.edu:9012/hub/login)\n",
    "   \n",
    "   - use Binder [![](http://mybinder.org/badge.svg)](http://beta.mybinder.org/repo/wd15/mks-tutorial)\n",
    "\n",
    " - please stop me if I go too fast\n",
    "    \n",
    " - feel free to ask questions\n"
   ]
  },
  {
   "cell_type": "markdown",
   "metadata": {
    "slideshow": {
     "slide_type": "slide"
    }
   },
   "source": [
    "# Syllabus\n",
    "\n",
    " 1. Python Intro?\n",
    " 1. Composing microstructure into a digital signal\n",
    " 1. Classify a microstructure using 2-point stats\n",
    " 1. Learn a Cahn-Hilliard simulation using regression\n",
    " \n",
    "Tools: PyMKS, Scikit-Learn, Dask, Numpy"
   ]
  },
  {
   "cell_type": "markdown",
   "metadata": {
    "slideshow": {
     "slide_type": "slide"
    }
   },
   "source": [
    "# 1. Python Intro\n",
    "\n",
    " - How to use the Jupyter Notebook\n",
    " - How many know Python?\n",
    "   - Variables\n",
    "   - Containers\n",
    "   - Loops\n",
    "   - Conditionals\n",
    "   - Arrays, vector calculations\n",
    "   - Plotting using Matplotlib"
   ]
  },
  {
   "cell_type": "markdown",
   "metadata": {
    "slideshow": {
     "slide_type": "slide"
    }
   },
   "source": [
    "# 2. Composing microstructure into a digital signal\n",
    "\n",
    " - Microstructure function\n",
    " - Why do we need to generate features for each data set?\n",
    " - Generate features for each sample of data\n",
    " - Using PyMKS microstructure functions\n",
    "   - continuous data\n",
    "   - discrete data\n",
    "   - periodic data\n",
    "   - multiple variable data"
   ]
  },
  {
   "cell_type": "markdown",
   "metadata": {
    "slideshow": {
     "slide_type": "slide"
    }
   },
   "source": [
    "# 3. Classify microstructures using 2-point stats\n",
    "\n",
    " - Generate artificial microstructures\n",
    " - Discretize the data using a discrete microstructure function\n",
    " - Create features for each sample using 2 points stats\n",
    " - Dimensionality reduction on the 2 points stats using PCA\n",
    " - Classification\n",
    "   - Train test splits\n",
    "   - Data pipelines\n",
    "   - Cross-validation\n",
    " - Speed things up using Dask"
   ]
  },
  {
   "cell_type": "markdown",
   "metadata": {
    "slideshow": {
     "slide_type": "slide"
    }
   },
   "source": [
    "# 4. Learn a Cahn-Hilliard simulation using regression\n",
    "\n",
    " - Generate sample Cahn-Hilliard data\n",
    " - Discretize the data using a continuous microstructure function\n",
    " - Regression analysis to avoid repeating the simulations\n",
    "   - generating the MKS \"kernel\" or \"coefficients\" using MKS \"localization\"\n",
    "   - scaling up the \"coefficients\"\n",
    " - Compare 2 microstructure functions\n",
    "   - Train test splits\n",
    "   - Data pipelines\n",
    "   - Cross-validation\n",
    " - Speed things up with Dask"
   ]
  }
 ],
 "metadata": {
  "anaconda-cloud": {},
  "celltoolbar": "Slideshow",
  "kernelspec": {
   "display_name": "Python 3",
   "language": "python",
   "name": "python3"
  },
  "language_info": {
   "codemirror_mode": {
    "name": "ipython",
    "version": 3
   },
   "file_extension": ".py",
   "mimetype": "text/x-python",
   "name": "python",
   "nbconvert_exporter": "python",
   "pygments_lexer": "ipython3",
   "version": "3.6.7"
  }
 },
 "nbformat": 4,
 "nbformat_minor": 1
}
